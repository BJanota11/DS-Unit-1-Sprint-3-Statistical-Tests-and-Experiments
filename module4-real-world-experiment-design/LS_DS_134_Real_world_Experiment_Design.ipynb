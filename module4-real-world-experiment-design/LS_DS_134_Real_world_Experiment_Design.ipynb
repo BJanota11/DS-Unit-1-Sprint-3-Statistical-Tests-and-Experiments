{
  "nbformat": 4,
  "nbformat_minor": 0,
  "metadata": {
    "colab": {
      "name": "LS_DS_144_Real_world_Experiment_Design.ipynb",
      "version": "0.3.2",
      "provenance": [],
      "include_colab_link": true
    },
    "kernelspec": {
      "name": "python3",
      "display_name": "Python 3"
    }
  },
  "cells": [
    {
      "cell_type": "markdown",
      "metadata": {
        "id": "view-in-github",
        "colab_type": "text"
      },
      "source": [
        "<a href=\"https://colab.research.google.com/github/bruno-janota/DS-Unit-1-Sprint-3-Statistical-Tests-and-Experiments/blob/master/module4-real-world-experiment-design/LS_DS_134_Real_world_Experiment_Design.ipynb\" target=\"_parent\"><img src=\"https://colab.research.google.com/assets/colab-badge.svg\" alt=\"Open In Colab\"/></a>"
      ]
    },
    {
      "cell_type": "markdown",
      "metadata": {
        "id": "meHdbCmyxDKn",
        "colab_type": "text"
      },
      "source": [
        "# Lambda School Data Science Module 144\n",
        "## Real-world Experiment Design\n",
        "\n",
        "![Induction experiment](https://upload.wikimedia.org/wikipedia/commons/1/1c/Induction_experiment.png)\n",
        "\n",
        "[Induction experiment, Wikipedia](https://commons.wikimedia.org/wiki/File:Induction_experiment.png)"
      ]
    },
    {
      "cell_type": "markdown",
      "metadata": {
        "id": "LayAf_2GxCKc",
        "colab_type": "text"
      },
      "source": [
        "## Prepare - Learn about JavaScript and Google Analytics"
      ]
    },
    {
      "cell_type": "markdown",
      "metadata": {
        "id": "tn7eCITsx5HB",
        "colab_type": "text"
      },
      "source": [
        "Python is great - but with web applications, it's impossible to avoid JavaScript. The lingua franca of the web, JavaScript runs in all browsers, and thus all front-end code must either be JS or transpiled to it. As a data scientist you don't have to learn JavaScript - but you do have to be aware of it, and being able to figure out snippets of it is an invaluable skill to connect your skills with real-world applications.\n",
        "\n",
        "So, we leave the warm comfort of Python, and venture to a bigger world - check out the [LambdaSchool/AB-Demo repo](https://github.com/LambdaSchool/AB-Demo) and [live experiment](https://lambdaschool.github.io/AB-Demo/) before class.\n",
        "\n",
        "Additionally, sign up for [Google Analytics](https://www.google.com/analytics) - if you're not sure on the steps or what \"property\" to give it, you can put a placeholder or wait until the live lecture. Google also has [Analytics documentation](https://support.google.com/analytics/) that is worth a look.\n",
        "\n",
        "Note - if you use any of the various tracker blocking techniques, it's quite likely you won't show up in Google Analytics. You'll have to disable them to be able to fully test your experiment."
      ]
    },
    {
      "cell_type": "markdown",
      "metadata": {
        "id": "RmQDF8OlxEey",
        "colab_type": "text"
      },
      "source": [
        "## Live Lecture - Using Google Analytics with a live A/B test"
      ]
    },
    {
      "cell_type": "markdown",
      "metadata": {
        "id": "C-uO6iZQCT2l",
        "colab_type": "text"
      },
      "source": [
        "Again we won't do much Python here, but we'll put a few notes and results in the notebook as we go."
      ]
    },
    {
      "cell_type": "code",
      "metadata": {
        "id": "1eS-_CSeXaVB",
        "colab_type": "code",
        "colab": {
          "base_uri": "https://localhost:8080/",
          "height": 212
        },
        "outputId": "16d5900b-0ab9-474c-8903-d7873480ee1c"
      },
      "source": [
        "import pandas as pd\n",
        "\n",
        "df = pd.read_csv('Kevin_Hillstrom_MineThatData_E-MailAnalytics_DataMiningChallenge_2008.03.20.csv')\n",
        "print(df.shape)\n",
        "df.head()"
      ],
      "execution_count": 2,
      "outputs": [
        {
          "output_type": "stream",
          "text": [
            "(64000, 12)\n"
          ],
          "name": "stdout"
        },
        {
          "output_type": "execute_result",
          "data": {
            "text/html": [
              "<div>\n",
              "<style scoped>\n",
              "    .dataframe tbody tr th:only-of-type {\n",
              "        vertical-align: middle;\n",
              "    }\n",
              "\n",
              "    .dataframe tbody tr th {\n",
              "        vertical-align: top;\n",
              "    }\n",
              "\n",
              "    .dataframe thead th {\n",
              "        text-align: right;\n",
              "    }\n",
              "</style>\n",
              "<table border=\"1\" class=\"dataframe\">\n",
              "  <thead>\n",
              "    <tr style=\"text-align: right;\">\n",
              "      <th></th>\n",
              "      <th>recency</th>\n",
              "      <th>history_segment</th>\n",
              "      <th>history</th>\n",
              "      <th>mens</th>\n",
              "      <th>womens</th>\n",
              "      <th>zip_code</th>\n",
              "      <th>newbie</th>\n",
              "      <th>channel</th>\n",
              "      <th>segment</th>\n",
              "      <th>visit</th>\n",
              "      <th>conversion</th>\n",
              "      <th>spend</th>\n",
              "    </tr>\n",
              "  </thead>\n",
              "  <tbody>\n",
              "    <tr>\n",
              "      <th>0</th>\n",
              "      <td>10</td>\n",
              "      <td>2) $100 - $200</td>\n",
              "      <td>142.44</td>\n",
              "      <td>1</td>\n",
              "      <td>0</td>\n",
              "      <td>Surburban</td>\n",
              "      <td>0</td>\n",
              "      <td>Phone</td>\n",
              "      <td>Womens E-Mail</td>\n",
              "      <td>0</td>\n",
              "      <td>0</td>\n",
              "      <td>0.0</td>\n",
              "    </tr>\n",
              "    <tr>\n",
              "      <th>1</th>\n",
              "      <td>6</td>\n",
              "      <td>3) $200 - $350</td>\n",
              "      <td>329.08</td>\n",
              "      <td>1</td>\n",
              "      <td>1</td>\n",
              "      <td>Rural</td>\n",
              "      <td>1</td>\n",
              "      <td>Web</td>\n",
              "      <td>No E-Mail</td>\n",
              "      <td>0</td>\n",
              "      <td>0</td>\n",
              "      <td>0.0</td>\n",
              "    </tr>\n",
              "    <tr>\n",
              "      <th>2</th>\n",
              "      <td>7</td>\n",
              "      <td>2) $100 - $200</td>\n",
              "      <td>180.65</td>\n",
              "      <td>0</td>\n",
              "      <td>1</td>\n",
              "      <td>Surburban</td>\n",
              "      <td>1</td>\n",
              "      <td>Web</td>\n",
              "      <td>Womens E-Mail</td>\n",
              "      <td>0</td>\n",
              "      <td>0</td>\n",
              "      <td>0.0</td>\n",
              "    </tr>\n",
              "    <tr>\n",
              "      <th>3</th>\n",
              "      <td>9</td>\n",
              "      <td>5) $500 - $750</td>\n",
              "      <td>675.83</td>\n",
              "      <td>1</td>\n",
              "      <td>0</td>\n",
              "      <td>Rural</td>\n",
              "      <td>1</td>\n",
              "      <td>Web</td>\n",
              "      <td>Mens E-Mail</td>\n",
              "      <td>0</td>\n",
              "      <td>0</td>\n",
              "      <td>0.0</td>\n",
              "    </tr>\n",
              "    <tr>\n",
              "      <th>4</th>\n",
              "      <td>2</td>\n",
              "      <td>1) $0 - $100</td>\n",
              "      <td>45.34</td>\n",
              "      <td>1</td>\n",
              "      <td>0</td>\n",
              "      <td>Urban</td>\n",
              "      <td>0</td>\n",
              "      <td>Web</td>\n",
              "      <td>Womens E-Mail</td>\n",
              "      <td>0</td>\n",
              "      <td>0</td>\n",
              "      <td>0.0</td>\n",
              "    </tr>\n",
              "  </tbody>\n",
              "</table>\n",
              "</div>"
            ],
            "text/plain": [
              "   recency history_segment  history  ...  visit  conversion spend\n",
              "0       10  2) $100 - $200   142.44  ...      0           0   0.0\n",
              "1        6  3) $200 - $350   329.08  ...      0           0   0.0\n",
              "2        7  2) $100 - $200   180.65  ...      0           0   0.0\n",
              "3        9  5) $500 - $750   675.83  ...      0           0   0.0\n",
              "4        2    1) $0 - $100    45.34  ...      0           0   0.0\n",
              "\n",
              "[5 rows x 12 columns]"
            ]
          },
          "metadata": {
            "tags": []
          },
          "execution_count": 2
        }
      ]
    },
    {
      "cell_type": "code",
      "metadata": {
        "id": "7co3QOzBX2cl",
        "colab_type": "code",
        "colab": {
          "base_uri": "https://localhost:8080/",
          "height": 235
        },
        "outputId": "26bf4c84-2de6-4407-c196-1718055c5231"
      },
      "source": [
        "df.isna().sum()"
      ],
      "execution_count": 3,
      "outputs": [
        {
          "output_type": "execute_result",
          "data": {
            "text/plain": [
              "recency            0\n",
              "history_segment    0\n",
              "history            0\n",
              "mens               0\n",
              "womens             0\n",
              "zip_code           0\n",
              "newbie             0\n",
              "channel            0\n",
              "segment            0\n",
              "visit              0\n",
              "conversion         0\n",
              "spend              0\n",
              "dtype: int64"
            ]
          },
          "metadata": {
            "tags": []
          },
          "execution_count": 3
        }
      ]
    },
    {
      "cell_type": "code",
      "metadata": {
        "id": "N-JR1AJ6X6FA",
        "colab_type": "code",
        "colab": {
          "base_uri": "https://localhost:8080/",
          "height": 84
        },
        "outputId": "6ee3794f-fc9b-4108-9b49-16445ebb0430"
      },
      "source": [
        "df.segment.value_counts()"
      ],
      "execution_count": 5,
      "outputs": [
        {
          "output_type": "execute_result",
          "data": {
            "text/plain": [
              "Womens E-Mail    21387\n",
              "Mens E-Mail      21307\n",
              "No E-Mail        21306\n",
              "Name: segment, dtype: int64"
            ]
          },
          "metadata": {
            "tags": []
          },
          "execution_count": 5
        }
      ]
    },
    {
      "cell_type": "code",
      "metadata": {
        "id": "MYwS5l0IYj1y",
        "colab_type": "code",
        "colab": {
          "base_uri": "https://localhost:8080/",
          "height": 101
        },
        "outputId": "c77a6c5a-7abf-4ec9-f0fc-81911f02babb"
      },
      "source": [
        "df.groupby('segment').visit.mean()*100"
      ],
      "execution_count": 10,
      "outputs": [
        {
          "output_type": "execute_result",
          "data": {
            "text/plain": [
              "segment\n",
              "Mens E-Mail      18.275684\n",
              "No E-Mail        10.616728\n",
              "Womens E-Mail    15.140038\n",
              "Name: visit, dtype: float64"
            ]
          },
          "metadata": {
            "tags": []
          },
          "execution_count": 10
        }
      ]
    },
    {
      "cell_type": "code",
      "metadata": {
        "id": "H5cQ3AwqZNYt",
        "colab_type": "code",
        "colab": {
          "base_uri": "https://localhost:8080/",
          "height": 101
        },
        "outputId": "a8afddf2-d925-407b-8c40-fb4e8e8d59d4"
      },
      "source": [
        "df.groupby('segment').conversion.mean()*100"
      ],
      "execution_count": 9,
      "outputs": [
        {
          "output_type": "execute_result",
          "data": {
            "text/plain": [
              "segment\n",
              "Mens E-Mail      1.253109\n",
              "No E-Mail        0.572609\n",
              "Womens E-Mail    0.883714\n",
              "Name: conversion, dtype: float64"
            ]
          },
          "metadata": {
            "tags": []
          },
          "execution_count": 9
        }
      ]
    },
    {
      "cell_type": "code",
      "metadata": {
        "id": "7p4QBiOrZaZA",
        "colab_type": "code",
        "colab": {
          "base_uri": "https://localhost:8080/",
          "height": 101
        },
        "outputId": "9a2d272a-2170-43a9-ac5d-b1d14d03b40f"
      },
      "source": [
        "df.groupby('segment').spend.mean()"
      ],
      "execution_count": 13,
      "outputs": [
        {
          "output_type": "execute_result",
          "data": {
            "text/plain": [
              "segment\n",
              "Mens E-Mail      1.422617\n",
              "No E-Mail        0.652789\n",
              "Womens E-Mail    1.077202\n",
              "Name: spend, dtype: float64"
            ]
          },
          "metadata": {
            "tags": []
          },
          "execution_count": 13
        }
      ]
    },
    {
      "cell_type": "code",
      "metadata": {
        "id": "iRQyk2gfbM9S",
        "colab_type": "code",
        "colab": {
          "base_uri": "https://localhost:8080/",
          "height": 275
        },
        "outputId": "fa556e81-05db-4acf-f5f8-3f98483be5e0"
      },
      "source": [
        "pd.crosstab(df['segment'], [df['visit'], df['conversion'], df['history_segment']])"
      ],
      "execution_count": 18,
      "outputs": [
        {
          "output_type": "execute_result",
          "data": {
            "text/html": [
              "<div>\n",
              "<style scoped>\n",
              "    .dataframe tbody tr th:only-of-type {\n",
              "        vertical-align: middle;\n",
              "    }\n",
              "\n",
              "    .dataframe tbody tr th {\n",
              "        vertical-align: top;\n",
              "    }\n",
              "\n",
              "    .dataframe thead tr th {\n",
              "        text-align: left;\n",
              "    }\n",
              "\n",
              "    .dataframe thead tr:last-of-type th {\n",
              "        text-align: right;\n",
              "    }\n",
              "</style>\n",
              "<table border=\"1\" class=\"dataframe\">\n",
              "  <thead>\n",
              "    <tr>\n",
              "      <th>visit</th>\n",
              "      <th colspan=\"7\" halign=\"left\">0</th>\n",
              "      <th colspan=\"14\" halign=\"left\">1</th>\n",
              "    </tr>\n",
              "    <tr>\n",
              "      <th>conversion</th>\n",
              "      <th colspan=\"7\" halign=\"left\">0</th>\n",
              "      <th colspan=\"7\" halign=\"left\">0</th>\n",
              "      <th colspan=\"7\" halign=\"left\">1</th>\n",
              "    </tr>\n",
              "    <tr>\n",
              "      <th>history_segment</th>\n",
              "      <th>1) $0 - $100</th>\n",
              "      <th>2) $100 - $200</th>\n",
              "      <th>3) $200 - $350</th>\n",
              "      <th>4) $350 - $500</th>\n",
              "      <th>5) $500 - $750</th>\n",
              "      <th>6) $750 - $1,000</th>\n",
              "      <th>7) $1,000 +</th>\n",
              "      <th>1) $0 - $100</th>\n",
              "      <th>2) $100 - $200</th>\n",
              "      <th>3) $200 - $350</th>\n",
              "      <th>4) $350 - $500</th>\n",
              "      <th>5) $500 - $750</th>\n",
              "      <th>6) $750 - $1,000</th>\n",
              "      <th>7) $1,000 +</th>\n",
              "      <th>1) $0 - $100</th>\n",
              "      <th>2) $100 - $200</th>\n",
              "      <th>3) $200 - $350</th>\n",
              "      <th>4) $350 - $500</th>\n",
              "      <th>5) $500 - $750</th>\n",
              "      <th>6) $750 - $1,000</th>\n",
              "      <th>7) $1,000 +</th>\n",
              "    </tr>\n",
              "    <tr>\n",
              "      <th>segment</th>\n",
              "      <th></th>\n",
              "      <th></th>\n",
              "      <th></th>\n",
              "      <th></th>\n",
              "      <th></th>\n",
              "      <th></th>\n",
              "      <th></th>\n",
              "      <th></th>\n",
              "      <th></th>\n",
              "      <th></th>\n",
              "      <th></th>\n",
              "      <th></th>\n",
              "      <th></th>\n",
              "      <th></th>\n",
              "      <th></th>\n",
              "      <th></th>\n",
              "      <th></th>\n",
              "      <th></th>\n",
              "      <th></th>\n",
              "      <th></th>\n",
              "      <th></th>\n",
              "    </tr>\n",
              "  </thead>\n",
              "  <tbody>\n",
              "    <tr>\n",
              "      <th>Mens E-Mail</th>\n",
              "      <td>6539</td>\n",
              "      <td>3940</td>\n",
              "      <td>3228</td>\n",
              "      <td>1595</td>\n",
              "      <td>1264</td>\n",
              "      <td>505</td>\n",
              "      <td>342</td>\n",
              "      <td>1114</td>\n",
              "      <td>709</td>\n",
              "      <td>799</td>\n",
              "      <td>460</td>\n",
              "      <td>311</td>\n",
              "      <td>123</td>\n",
              "      <td>111</td>\n",
              "      <td>71</td>\n",
              "      <td>42</td>\n",
              "      <td>63</td>\n",
              "      <td>42</td>\n",
              "      <td>22</td>\n",
              "      <td>16</td>\n",
              "      <td>11</td>\n",
              "    </tr>\n",
              "    <tr>\n",
              "      <th>No E-Mail</th>\n",
              "      <td>6966</td>\n",
              "      <td>4396</td>\n",
              "      <td>3533</td>\n",
              "      <td>1805</td>\n",
              "      <td>1471</td>\n",
              "      <td>526</td>\n",
              "      <td>347</td>\n",
              "      <td>614</td>\n",
              "      <td>420</td>\n",
              "      <td>483</td>\n",
              "      <td>295</td>\n",
              "      <td>172</td>\n",
              "      <td>93</td>\n",
              "      <td>63</td>\n",
              "      <td>32</td>\n",
              "      <td>20</td>\n",
              "      <td>28</td>\n",
              "      <td>24</td>\n",
              "      <td>9</td>\n",
              "      <td>3</td>\n",
              "      <td>6</td>\n",
              "    </tr>\n",
              "    <tr>\n",
              "      <th>Womens E-Mail</th>\n",
              "      <td>6629</td>\n",
              "      <td>4096</td>\n",
              "      <td>3480</td>\n",
              "      <td>1771</td>\n",
              "      <td>1370</td>\n",
              "      <td>469</td>\n",
              "      <td>334</td>\n",
              "      <td>944</td>\n",
              "      <td>594</td>\n",
              "      <td>649</td>\n",
              "      <td>397</td>\n",
              "      <td>266</td>\n",
              "      <td>116</td>\n",
              "      <td>83</td>\n",
              "      <td>61</td>\n",
              "      <td>37</td>\n",
              "      <td>26</td>\n",
              "      <td>20</td>\n",
              "      <td>26</td>\n",
              "      <td>8</td>\n",
              "      <td>11</td>\n",
              "    </tr>\n",
              "  </tbody>\n",
              "</table>\n",
              "</div>"
            ],
            "text/plain": [
              "visit                      0                 ...                1            \n",
              "conversion                 0                 ...                1            \n",
              "history_segment 1) $0 - $100 2) $100 - $200  ... 6) $750 - $1,000 7) $1,000 +\n",
              "segment                                      ...                             \n",
              "Mens E-Mail             6539           3940  ...               16          11\n",
              "No E-Mail               6966           4396  ...                3           6\n",
              "Womens E-Mail           6629           4096  ...                8          11\n",
              "\n",
              "[3 rows x 21 columns]"
            ]
          },
          "metadata": {
            "tags": []
          },
          "execution_count": 18
        }
      ]
    },
    {
      "cell_type": "markdown",
      "metadata": {
        "id": "n0btUZvwxE_T",
        "colab_type": "text"
      },
      "source": [
        "## Assignment - Set up your own A/B test!"
      ]
    },
    {
      "cell_type": "markdown",
      "metadata": {
        "id": "U427Ao84Cfpx",
        "colab_type": "text"
      },
      "source": [
        "For a baseline, a straight fork of the Lambda School repo is OK. Getting that working with your own Analytics profile is already a task. But if you get through that, stretch goals:\n",
        "\n",
        "1. Explore Google Analytics - it's big and changes frequently, but powerful (can track conversions and events, flows, etc.)\n",
        "2. Customize the experiment to be more interesting/different (try colors!)\n",
        "3. Check out the various tools for setting up A/B experiments (e.g. [Optimizely](https://www.optimizely.com/) and [alternatives](https://alternativeto.net/software/optimizely/))\n",
        "4. Try to get enough traffic to actually have more real data (don't spam people, but do share with friends)\n",
        "5. If you do get more traffic, don't just apply a t-test - dig into the results and use both math and writing to describe your findings\n",
        "\n",
        "Additionally, today it is a good idea to go back and review the frequentist hypothesis testing material from the first two modules. And if you feel on top of things - you can use your newfound GitHub Pages and Google Analytics skills to build/iterate a portfolio page, and maybe even instrument it with Analytics!"
      ]
    },
    {
      "cell_type": "markdown",
      "metadata": {
        "id": "R2zgFT0cxBzy",
        "colab_type": "text"
      },
      "source": [
        "## Resources"
      ]
    },
    {
      "cell_type": "markdown",
      "metadata": {
        "id": "QVnoP22VxVyC",
        "colab_type": "text"
      },
      "source": [
        "- [Demo Google Analytics Data](https://support.google.com/analytics/answer/6367342?hl=en) - an Analytics profile you can add to your account with real data from the Google swag store\n",
        "- [Design of Experiment](https://explorable.com/design-of-experiment) - an essay summarizing some of the things to be aware of when designing and running an experiment"
      ]
    }
  ]
}